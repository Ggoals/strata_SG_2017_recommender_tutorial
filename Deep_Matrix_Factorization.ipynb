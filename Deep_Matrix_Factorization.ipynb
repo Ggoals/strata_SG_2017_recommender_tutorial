{
 "cells": [
  {
   "cell_type": "markdown",
   "metadata": {},
   "source": [
    "In this notebook, we will demonstrate how to use the tensorflow low level API to build a deep learning model to predict movie rating from scratch.\n",
    "\n",
    "Our dataset: movielens 1m dataset.\n",
    "Our parameters: movie embeddings, user embeddings, weights and bias in DNN.\n",
    "Our Model: \n",
    "\n",
    "1. 4 layer neural network, with activation function: relu, relu, relu, softmax.\n",
    "2. Input layer is the element wise prodcut of the user embedding and the movie embedding.\n",
    "3. Cost function: a combination of cross entropy and mean squared error.\n",
    "4. User embedding and movie embedding will be initialized with the results from matrix factorization model.\n",
    "5. First 50 epochs only update weights and bias in DNN, from 51th epoch train model end-to-end."
   ]
  },
  {
   "cell_type": "code",
   "execution_count": 4,
   "metadata": {
    "collapsed": true
   },
   "outputs": [],
   "source": [
    "import tensorflow as tf\n",
    "import pandas as pd\n",
    "import matplotlib.pyplot as plt\n",
    "import numpy as np\n",
    "%matplotlib inline\n",
    "from __future__ import print_function"
   ]
  },
  {
   "cell_type": "markdown",
   "metadata": {},
   "source": [
    "### download movie data and create model directory"
   ]
  },
  {
   "cell_type": "code",
   "execution_count": 5,
   "metadata": {},
   "outputs": [
    {
     "name": "stdout",
     "output_type": "stream",
     "text": [
      "mkdir: mf_model: File exists\n",
      "mkdir: cache: File exists\n"
     ]
    }
   ],
   "source": [
    "# download movie data and make directory for the model\n",
    "\n",
    "#! wget -q http://files.grouplens.org/datasets/movielens/ml-1m.zip\n",
    "#! unzip ml-1m.zip\n",
    "! mkdir mf_model\n",
    "!mkdir cache"
   ]
  },
  {
   "cell_type": "markdown",
   "metadata": {},
   "source": [
    "### data processing"
   ]
  },
  {
   "cell_type": "markdown",
   "metadata": {},
   "source": [
    "step 1: load data to pandas dataframes, merge the dataframes to one table."
   ]
  },
  {
   "cell_type": "code",
   "execution_count": 6,
   "metadata": {
    "collapsed": true
   },
   "outputs": [],
   "source": [
    "age_desc = {\n",
    "    1: \"Under 18\", 18: \"18-24\", 25: \"25-34\", 35: \"35-44\", 45: \"45-49\", 50: \"50-55\", 56: \"56+\"\n",
    "}\n",
    "occupation_desc = { \n",
    "    0: \"other or not specified\", 1: \"academic/educator\", 2: \"artist\", 3: \"clerical/admin\",\n",
    "    4: \"college/grad student\", 5: \"customer service\", 6: \"doctor/health care\",\n",
    "    7: \"executive/managerial\", 8: \"farmer\", 9: \"homemaker\", 10: \"K-12 student\", 11: \"lawyer\",\n",
    "    12: \"programmer\", 13: \"retired\", 14: \"sales/marketing\", 15: \"scientist\", 16: \"self-employed\",\n",
    "    17: \"technician/engineer\", 18: \"tradesman/craftsman\", 19: \"unemployed\", 20: \"writer\"\n",
    "}\n",
    "rating_data = pd.read_csv(\n",
    "    \"ml-1m/ratings.dat\",\n",
    "    sep=\"::\",\n",
    "    engine=\"python\",\n",
    "    encoding=\"latin-1\",\n",
    "    names=['userid', 'movieid', 'rating', 'timestamp'])\n",
    "\n",
    "user_data = pd.read_csv(\n",
    "    \"ml-1m/users.dat\", \n",
    "    sep='::', \n",
    "    engine='python', \n",
    "    encoding='latin-1',\n",
    "    names=['userid', 'gender', 'age', 'occupation', 'zipcode']\n",
    ")\n",
    "user_data['age_desc'] = user_data['age'].apply(lambda x: age_desc[x])\n",
    "user_data['occ_desc'] = user_data['occupation'].apply(lambda x: occupation_desc[x])\n",
    "\n",
    "movie_data = pd.read_csv(\n",
    "    \"ml-1m/movies.dat\",\n",
    "    sep='::', \n",
    "    engine='python', \n",
    "    encoding='latin-1',\n",
    "    names=['movieid', 'title', 'genre']\n",
    ")\n",
    "\n",
    "dataset = pd.merge(pd.merge(rating_data, movie_data, how=\"left\", on=\"movieid\"), user_data, how=\"left\", on=\"userid\")"
   ]
  },
  {
   "cell_type": "markdown",
   "metadata": {},
   "source": [
    "Step 2: preprocess the movie id and user id"
   ]
  },
  {
   "cell_type": "code",
   "execution_count": 7,
   "metadata": {
    "collapsed": true
   },
   "outputs": [],
   "source": [
    "def check_cols(df, cols):\n",
    "    \"\"\"\n",
    "    checks if there are gaps of index, and if the index starts from 0\n",
    "    \n",
    "    Arguments:\n",
    "    df -- dataframe of the dataset\n",
    "    cols -- dataframe columns that needs to be checked, in our case user id and movie id\n",
    "    \n",
    "    Returns:\n",
    "    a list of tuple [('COLUMN_NAME', boolean)], if True, the column needs to be fixed, if False, the column is ok.\n",
    "    \"\"\"\n",
    "    return [(col, False) if len(dataset[col].unique())-1 == dataset[col].max() else (col, True) for col in cols]\n",
    "\n",
    "def remove_gaps(df, col):\n",
    "    \"\"\"\n",
    "    preprocess the index of user id and movie id to start from 0 and reduce the gap of index\n",
    "    \n",
    "    Arguments:\n",
    "    df -- dataframe of the dataset\n",
    "    col -- dataframe columns that needs to be adjusted, in our case both user id and movie id\n",
    "    \n",
    "    Returns:\n",
    "    a dataframe with adjusted columns.\n",
    "    \"\"\"\n",
    "    adj_col_uni = df[col].sort_values().unique()\n",
    "    adj_df = pd.DataFrame(adj_col_uni).reset_index().rename(columns = {0: col, 'index': \"adj_%s\"%(col,)})\n",
    "    return pd.merge(adj_df, df, how=\"right\", on=col)"
   ]
  },
  {
   "cell_type": "code",
   "execution_count": 8,
   "metadata": {},
   "outputs": [
    {
     "name": "stdout",
     "output_type": "stream",
     "text": [
      "before fix:\n",
      "userid needs fix!\n",
      "movieid needs fix!\n",
      "\n",
      "after fix\n",
      "adj_userid ok.\n",
      "adj_movieid ok.\n"
     ]
    }
   ],
   "source": [
    "index_cols = [\"userid\", \"movieid\"]\n",
    "cols_check = check_cols(dataset, index_cols)\n",
    "print_check = lambda check: print(*[\"%s needs fix!\"%(c,) if f else \"%s ok.\"%(c,) for c, f in check], sep=\"\\n\")\n",
    "print(\"before fix:\")\n",
    "print_check(cols_check)\n",
    "for col, needs_fix in cols_check:\n",
    "    if needs_fix:\n",
    "        dataset = remove_gaps(dataset, col)\n",
    "\n",
    "print(\"\\nafter fix\")\n",
    "print_check(check_cols(dataset, [\"adj_userid\", \"adj_movieid\"]))"
   ]
  },
  {
   "cell_type": "markdown",
   "metadata": {},
   "source": [
    "step 3: shuffle data and split the data to train and validation set."
   ]
  },
  {
   "cell_type": "code",
   "execution_count": 9,
   "metadata": {
    "collapsed": true
   },
   "outputs": [],
   "source": [
    "dataset = dataset.sample(frac=1, replace=False)\n",
    "n_split = int(len(dataset)*.7)\n",
    "trainset = dataset[:n_split]\n",
    "validset = dataset[n_split:]"
   ]
  },
  {
   "cell_type": "markdown",
   "metadata": {},
   "source": [
    "### Build Matrix Factorization Model "
   ]
  },
  {
   "cell_type": "code",
   "execution_count": 10,
   "metadata": {
    "collapsed": true
   },
   "outputs": [],
   "source": [
    "def initialize_features(num_users, num_movies, dim):\n",
    "    \"\"\"\n",
    "    Initialize features. User_features and movie_features need to be trained by the matrix factorization model.\n",
    "    \n",
    "    Arguments:\n",
    "    num_users -- number of users\n",
    "    num_movies -- number of movies\n",
    "    dim -- dimension of learned user and movie features, it's a hyper-parameter\n",
    "    \n",
    "    Returns:\n",
    "    user_features -- a matrix (variable) of shape [number of users, dim]\n",
    "    movie_features -- a matrix (variable) of shape [number of movies, dim]\n",
    "    \"\"\" \n",
    "    user_features = tf.get_variable(\n",
    "        \"theta\",\n",
    "        shape = [num_users, dim],\n",
    "        dtype = tf.float32,\n",
    "        initializer = tf.truncated_normal_initializer(mean=0, stddev=.05)\n",
    "    )\n",
    "    movie_features = tf.get_variable(\n",
    "        \"phi\",\n",
    "        shape = [num_movies, dim],\n",
    "        dtype = tf.float32,\n",
    "        initializer = tf.truncated_normal_initializer(mean=0, stddev=.05)\n",
    "    )\n",
    "    return user_features, movie_features\n",
    "\n",
    "def create_dataset(user_ids, movie_ids, ratings):\n",
    "    \"\"\"\n",
    "    Load user id, movie id and rating values. Turn numpy array to tensors.\n",
    "    \n",
    "    Arguments:\n",
    "    user_ids -- user index\n",
    "    movie_ids -- movies index\n",
    "    ratings -- true rating value\n",
    "    \n",
    "    Returns:\n",
    "    user_id_var -- a constant of shape [number of training examples, 1]\n",
    "    movie_id_var -- a constant of shape [number of training examples, 1]\n",
    "    ratings_var -- a constant of shape [number of training examples, 1]\n",
    "    \"\"\" \n",
    "    user_id_var = tf.constant(name=\"userid\", value=user_ids)\n",
    "    movie_id_var = tf.constant(name=\"movieid\", value=movie_ids)\n",
    "    ratings_var = tf.constant(name=\"ratings\", value=np.asarray(ratings, dtype=np.float32))\n",
    "    return user_id_var, movie_id_var, ratings_var\n",
    "   \n",
    "def lookup_features(user_features, movie_features, user_ids, movie_ids): \n",
    "    \"\"\"\n",
    "    Retrieve embeddings based on user ids and movie ids respectively.\n",
    "    We use tf.gather function for this. tf.gather gathers slices from params according to indices.\n",
    "    \n",
    "    Arguments:\n",
    "    user_features -- shape [number of user ids, dim]\n",
    "    movie_features -- shape [number of movie ids, dim]\n",
    "    user_ids -- user id tensor (in our case loaded user ids from dataset)\n",
    "    movie_ids -- movie id tensor (in our case loaded movie ids from dataset)\n",
    "    \n",
    "    Returns:\n",
    "    selected_user_features -- a tensor of shape [number of examples, dim]\n",
    "    selected_movie_features -- a tensor of shape [number of examples, dim]\n",
    "    \"\"\" \n",
    "    selected_user_features = tf.gather(user_features, user_ids)\n",
    "    selected_movie_features = tf.gather(movie_features, movie_ids)\n",
    "    return selected_user_features, selected_movie_features\n",
    "\n",
    "def predict(selected_user_features, selected_movie_features):\n",
    "    \"\"\"\n",
    "    Calculate predictions. This is the dot product of user features and movie features. \n",
    "    For each training example, this corresponds to a single number.\n",
    "    \n",
    "    Arguments:\n",
    "    selected_user_features -- matrix of user features for each example -- shape [number of examples, dim]\n",
    "    selected_movie_features -- matrix of movies features value for each example -- shape [number of examples, dim]\n",
    "    \n",
    "    Returns:\n",
    "    selected_predictions -- a tensor of shape [number of examples, 1]\n",
    "    \"\"\" \n",
    "    selected_predictions = tf.reduce_sum(\n",
    "        selected_user_features * selected_movie_features,\n",
    "        axis = 1\n",
    "    )\n",
    "    ##alternatively, using tf.reduce_sum(tf.multiply(selected_user_embeddings,selected_movie_embeddings), axis=1)\n",
    "    return selected_predictions\n",
    "\n",
    "def mean_squared_difference(predictions, ratings):\n",
    "    \"\"\"\n",
    "    Calculate cost.\n",
    "    \n",
    "    Arguments:\n",
    "    predictions -- predicted ratings.\n",
    "    ratings -- true ratings.\n",
    "    \n",
    "    Returns:\n",
    "    difference -- mean squared error. It's a real number. \n",
    "    \"\"\" \n",
    "    difference = tf.reduce_mean(tf.squared_difference(predictions, ratings))\n",
    "    return difference"
   ]
  },
  {
   "cell_type": "markdown",
   "metadata": {},
   "source": [
    "### Train the Matrix Factorization Model"
   ]
  },
  {
   "cell_type": "markdown",
   "metadata": {},
   "source": [
    "Here we train the matrix factorization model and save the final user features and movie features value for DNN. "
   ]
  },
  {
   "cell_type": "code",
   "execution_count": 11,
   "metadata": {},
   "outputs": [
    {
     "name": "stdout",
     "output_type": "stream",
     "text": [
      "valid loss at step 1: 14.081106\n",
      "valid loss at step 51: 2.302089\n",
      "valid loss at step 101: 1.051226\n",
      "valid loss at step 151: 0.915825\n",
      "valid loss at step 201: 0.874883\n",
      "valid loss at step 251: 0.853326\n",
      "valid loss at step 301: 0.835404\n",
      "valid loss at step 351: 0.819504\n",
      "valid loss at step 401: 0.806810\n",
      "valid loss at step 451: 0.796939\n",
      "valid loss at step 501: 0.789348\n",
      "valid loss at step 551: 0.783548\n",
      "valid loss at step 601: 0.779103\n",
      "valid loss at step 651: 0.775642\n",
      "valid loss at step 701: 0.772873\n",
      "valid loss at step 751: 0.770588\n",
      "valid loss at step 801: 0.768640\n",
      "valid loss at step 851: 0.766956\n",
      "valid loss at step 901: 0.765503\n",
      "valid loss at step 951: 0.764257\n",
      "valid loss at step 1001: 0.763205\n",
      "valid loss at step 1051: 0.762334\n",
      "valid loss at step 1101: 0.761629\n",
      "valid loss at step 1151: 0.761072\n",
      "valid loss at step 1201: 0.760648\n",
      "valid loss at step 1251: 0.760338\n",
      "valid loss at step 1301: 0.760131\n",
      "valid loss at step 1351: 0.760016\n",
      "features saved\n"
     ]
    }
   ],
   "source": [
    "emb_dim = 8\n",
    "mf_learning_rate = 50\n",
    "mf_epochs = 1400\n",
    "\n",
    "n_users = len(dataset.adj_userid.unique())\n",
    "n_movies = len(dataset.adj_movieid.unique())\n",
    "\n",
    "def mf_train(emb_dim, n_users, n_movies, trainset, validset, learning_rate, epochs):\n",
    "    with tf.Graph().as_default():\n",
    "        with tf.variable_scope(\"features\"):\n",
    "            usr_embs, mov_embs = initialize_features(len(dataset.adj_userid.unique()), len(dataset.adj_movieid.unique()), emb_dim)\n",
    "        with tf.variable_scope(\"train_set\"):\n",
    "            train_data = trainset[[\"adj_userid\", \"adj_movieid\", \"rating\"]].values.T #shape(3, 700146)\n",
    "            train_usr_ids, train_mov_ids, train_ratings = create_dataset(*train_data)# expend to 3 lists\n",
    "        with tf.variable_scope(\"valid_set\"):\n",
    "            valid_data = validset[[\"adj_userid\", \"adj_movieid\", \"rating\"]].values.T\n",
    "            valid_usr_ids, valid_mov_ids, valid_ratings = create_dataset(*valid_data)\n",
    "        with tf.variable_scope(\"training\"):\n",
    "            train_sel_usr_emb, train_sel_mov_emb = lookup_features(usr_embs, mov_embs, train_usr_ids, train_mov_ids)\n",
    "            train_preds = predict(train_sel_usr_emb, train_sel_mov_emb)\n",
    "            train_loss = mean_squared_difference(train_preds, train_ratings)\n",
    "            optimizer = tf.train.GradientDescentOptimizer(learning_rate=learning_rate)\n",
    "            train_usr_embs = optimizer.minimize(train_loss, var_list=[usr_embs])\n",
    "            train_mov_embs = optimizer.minimize(train_loss, var_list=[mov_embs])   \n",
    "        with tf.variable_scope(\"validation\"):\n",
    "            valid_sel_usr_emb, valid_sel_mov_emb = lookup_features(usr_embs, mov_embs, valid_usr_ids, valid_mov_ids)\n",
    "            valid_preds = predict(valid_sel_usr_emb, valid_sel_mov_emb)\n",
    "            valid_loss = mean_squared_difference(valid_preds, valid_ratings)\n",
    "        with tf.Session() as sess:\n",
    "            sess.run(tf.global_variables_initializer())\n",
    "            train_loss_history = []\n",
    "            valid_loss_history = []\n",
    "            for i in range(epochs):\n",
    "                current_train_loss, _ = sess.run([train_loss, train_usr_embs])\n",
    "                current_train_loss, _ = sess.run([train_loss, train_mov_embs])\n",
    "                current_valid_loss = sess.run(valid_loss)\n",
    "                if i%50 == 0:\n",
    "                    print(\"valid loss at step %i: %f\"%(i+1, current_valid_loss))\n",
    "                train_loss_history.append(current_train_loss)\n",
    "                valid_loss_history.append(current_valid_loss)\n",
    "            final_user_embeddings, final_movie_embeddings = sess.run([usr_embs, mov_embs])\n",
    "            final_valid_predictions = sess.run(valid_preds)\n",
    "    return (final_user_embeddings, final_movie_embeddings, train_loss_history, valid_loss_history, final_valid_predictions)\n",
    "\n",
    "mf_result = mf_train(emb_dim, n_users, n_movies, trainset, validset, mf_learning_rate, mf_epochs)\n",
    "mf_user_embs, mf_movie_embs, mf_tlh, mf_vlh, mf_fvp = mf_result\n",
    "\n",
    "np.save(\"mf_model/user_features\", mf_user_embs)\n",
    "np.save(\"mf_model/movie_features\", mf_movie_embs)\n",
    "\n",
    "print(\"features saved\")"
   ]
  },
  {
   "cell_type": "markdown",
   "metadata": {},
   "source": [
    "### plot losses"
   ]
  },
  {
   "cell_type": "markdown",
   "metadata": {},
   "source": [
    "plot the traing loss and valid loss"
   ]
  },
  {
   "cell_type": "code",
   "execution_count": 43,
   "metadata": {},
   "outputs": [
    {
     "data": {
      "image/png": "[encoded data removed]",
      "text/plain": [
       "<matplotlib.figure.Figure at 0x11b056350>"
      ]
     },
     "metadata": {},
     "output_type": "display_data"
    }
   ],
   "source": [
    "plt.figure(figsize=(12,10))\n",
    "plt.plot(np.array(mf_tlh), color=\"red\", label=\"train loss\")\n",
    "plt.plot(np.array(mf_vlh), color=\"blue\", label=\"valid loss\")\n",
    "plt.xlabel(\"epoch\")\n",
    "plt.ylabel(\"loss\")\n",
    "plt.legend()\n",
    "plt.show()"
   ]
  },
  {
   "cell_type": "markdown",
   "metadata": {},
   "source": [
    "### build DNN"
   ]
  },
  {
   "cell_type": "markdown",
   "metadata": {},
   "source": [
    "Some notation first:\n",
    " - We have layers $1,...,n$ of our neural network\n",
    " - $W_i$ and $b_i$ are the weights and biases for the $i^{th}$ layer of our DNN. $W_1$ is the weight matrix of first layer. $W_n$ is the weight matrix of last layer.\n",
    " - for the $i^{th}$ layer of neural network, if $d_{in}$ is the dimension of input layer, $d_{out}$ is the dimension of output layer, then the dimension of $W_i$ is [$d_{in}$, $d_{out}$] and the dimension of $b_i$ is [$1$, $d_{out}$]\n",
    " - $z_i$ is the linear unit of the output from the previous layer: $z_i$ = $a_{i-1}\\cdot W_i + b_i$\n",
    " - $a_i$ is the activation unit of $z_i$: if $f_i$ is the action function of ith layer: $a_i = f_i(z_i)$\n",
    " \n",
    "\n",
    "In order to build the DNN, the steps below are followed:\n",
    "1. load the movie and user embeddings from the results learned in matrix factorization model\n",
    "2. initialize the DNN parameters\n",
    "3. calculate the logits $z_n$ (linear output of last hidden layer)\n",
    "4. calculate the predictions $softmax(z_n)$\n",
    "5. calculate the loss\n",
    "6. train and validate the model"
   ]
  },
  {
   "cell_type": "markdown",
   "metadata": {},
   "source": [
    "### 1. load the movie and user embeddings"
   ]
  },
  {
   "cell_type": "code",
   "execution_count": 44,
   "metadata": {
    "collapsed": true
   },
   "outputs": [],
   "source": [
    "def load_embeddings(user_embs_file, movie_embs_file):\n",
    "    \"\"\"\n",
    "    In the deep model we initialize the user embedding and movie embedding with value that learned from the matrix \n",
    "    factorization model. So here load already saved values. \n",
    "    \n",
    "    Arguments:\n",
    "    user_embs_file -- saved user embedding file name\n",
    "    movie_embs_file -- saved movie embedding file name\n",
    "    \n",
    "    Returns:\n",
    "    usr_embs -- initialized user embeddings array\n",
    "    mov_embs -- initialized user embeddings array\n",
    "    \"\"\"       \n",
    "\n",
    "    usr_embs_array = np.load(user_embs_file)\n",
    "    mov_embs_array = np.load(movie_embs_file)\n",
    "    usr_embs = tf.get_variable(\n",
    "        \"usr_embs\",\n",
    "        initializer = tf.constant_initializer(usr_embs_array),\n",
    "        shape = usr_embs_array.shape\n",
    "    )\n",
    "    mov_embs = tf.get_variable(\n",
    "        \"mov_embs\",\n",
    "        initializer = tf.constant_initializer(mov_embs_array),\n",
    "        shape = mov_embs_array.shape\n",
    "    )\n",
    "    return (usr_embs, mov_embs)"
   ]
  },
  {
   "cell_type": "markdown",
   "metadata": {},
   "source": [
    "### 2. initialize the DNN parameters"
   ]
  },
  {
   "cell_type": "markdown",
   "metadata": {},
   "source": [
    "before start explain the forward propagation, w and b dimensions."
   ]
  },
  {
   "cell_type": "code",
   "execution_count": 45,
   "metadata": {
    "collapsed": true
   },
   "outputs": [],
   "source": [
    "def initialize_nn_params(net_dims):\n",
    "    \"\"\"\n",
    "    initializes parameter Ws and bs for the whole NN. \n",
    "\n",
    "    net_dims -- layer dimensions, it's a list looks like [dim_input, d_1, ..., d_n]\n",
    "\n",
    "    Returns:\n",
    "    params -- a dictionary of variables containing W1, b1, ..., Wn, bn\n",
    "    \"\"\"\n",
    "    \n",
    "    #We first zip the two lists of net_dims to get the list of tuples (d_in, d_out) for each layer.\n",
    "    #enumerate allows us to loop over something and have an automatic counter, in this case we use the counter as the \n",
    "    #index of W and b and we use the tuple (d_in, d_out) for the shape of our W and b.\n",
    "    layer_dims = list(zip(net_dims[:-1], net_dims[1:]))\n",
    "    params = {}\n",
    "    for i, (d_in, d_out) in enumerate(layer_dims):\n",
    "        params[\"W\"+str(i+1)] = tf.get_variable(\n",
    "            \"W\"+str(i+1), \n",
    "            [d_in, d_out], \n",
    "            initializer = tf.contrib.layers.xavier_initializer(seed =1)\n",
    "        )\n",
    "        params[\"b\"+str(i+1)] = tf.get_variable(\n",
    "            \"b\"+str(i+1), \n",
    "            [1,d_out], \n",
    "            initializer = tf.zeros_initializer()\n",
    "        )\n",
    "    return params"
   ]
  },
  {
   "cell_type": "markdown",
   "metadata": {},
   "source": [
    "### 3. calculate the linear ouput of the last linear unit"
   ]
  },
  {
   "cell_type": "code",
   "execution_count": 46,
   "metadata": {
    "collapsed": true
   },
   "outputs": [],
   "source": [
    "def create_inputs(user_embeddings, movie_embeddings, user_ids, movie_ids):\n",
    "    \"\"\"\n",
    "    use the lookup_embeddings function defined above to look up the embeddings based on the ids for the whole dataset.\n",
    "    \n",
    "    Arguments:\n",
    "    user_embeddings -- shape [number of users, dim]\n",
    "    movie_embeddings -- shape [number of movie, dim]\n",
    "    user_ids -- user id variable, loaded user id from dataset\n",
    "    movie_ids -- movie id variable, loaded movie id from dataset\n",
    "    \n",
    "    Returns:\n",
    "    inputs --  input layer of the NN, shape [number of examples, dimension of the embeddings] \n",
    "    \"\"\"\n",
    "    sel_usr_embs, sel_mov_embs = lookup_features(user_embeddings, movie_embeddings, user_ids, movie_ids)\n",
    "    inputs = sel_usr_embs * sel_mov_embs\n",
    "    return inputs\n",
    "\n",
    "def forward_propagate(inputs, params, acts, net_dims):\n",
    "    \"\"\"\n",
    "    propagate the inputs through the network: INPUTS -> LINEAR_1 -> ACT_1 -> ... -> LINEAR_N\n",
    "    \n",
    "    Arguments:\n",
    "    inputs -- the user and movie embedding\n",
    "    params -- python dictionary containing parameters W1, b1, ..., Wn, bn as returned by initialize_nn_params\n",
    "    acts -- list of activation functions, e.g.['tf.nn.relu', 'tf.nn.relu', 'None'] (None means linear activation)\n",
    "    net_dims -- layer dimensions, it's a list looks like [dim_input, d_1, ..., d_n]\n",
    "\n",
    "    Returns:\n",
    "    a -- the output of the last hidden layer\n",
    "    \"\"\"\n",
    "    a = inputs\n",
    "    n_layers = len(net_dims)-1\n",
    "    for i in range(n_layers):\n",
    "        W = params['W'+str(i+1)]\n",
    "        b = params['b'+str(i+1)]\n",
    "        z = tf.matmul(a, W) + b\n",
    "        a = acts[i](z) if acts[i] is not None else z\n",
    "    return a"
   ]
  },
  {
   "cell_type": "markdown",
   "metadata": {},
   "source": [
    "### 4. calculate the prediction"
   ]
  },
  {
   "cell_type": "code",
   "execution_count": 47,
   "metadata": {
    "collapsed": true
   },
   "outputs": [],
   "source": [
    "def calc_predict(logits):\n",
    "    \"\"\"\n",
    "    calculates predictions, wraps tf.nn.softmax for documentation purposes.\n",
    "    \n",
    "    Arguments:\n",
    "    logits -- tensor of logits, for example the (linear) output of the last hidden layer of a NN\n",
    "\n",
    "    Returns:\n",
    "    prediction -- softmax of logits, represents probability of each category, shape (number of examples, 5)\n",
    "    \"\"\"\n",
    "    return tf.nn.softmax(logits)"
   ]
  },
  {
   "cell_type": "markdown",
   "metadata": {},
   "source": [
    "### 5. calculate the loss"
   ]
  },
  {
   "cell_type": "markdown",
   "metadata": {},
   "source": [
    "The loss is a combination of cross entropy and mean squared error."
   ]
  },
  {
   "cell_type": "code",
   "execution_count": 48,
   "metadata": {},
   "outputs": [],
   "source": [
    "def cross_entropy(logits, ratings):\n",
    "    \"\"\"\n",
    "    computes the cross entropy.\n",
    "    \n",
    "    Arguments:\n",
    "    logits -- tensor of logits, for example the (linear) output of the last hidden layer of a NN of\n",
    "              shape (number of examples, 5)\n",
    "    y -- \"true\" labels, densely encoded starting from 1, shape of (number of examples, 1). This will be our true\n",
    "              ratings, i.e. [4,5,3,5,1,...]\n",
    "    \n",
    "    Returns:\n",
    "    cross_entropy - scalar, mean cross entropy across examples\n",
    "    \"\"\"\n",
    "    labels = ratings-1\n",
    "    labels = tf.cast(labels,tf.int32)\n",
    "    cross_entropy = tf.reduce_mean(tf.nn.sparse_softmax_cross_entropy_with_logits(logits=logits, labels=labels))\n",
    "    \n",
    "    return cross_entropy\n",
    "\n",
    "def mean_squared_error(predictions, ratings):\n",
    "    \"\"\"\n",
    "    computes the mean squared error.\n",
    "     \n",
    "     \n",
    "    Arguments:\n",
    "    prediction -- predicted value, shape (number of examples, 5)\n",
    "    rating -- \"true\" labels, shape (number of examples, 5)\n",
    "    \n",
    "    Returns:\n",
    "    mean_distance -- mean squared error \n",
    "    \"\"\"\n",
    "    \n",
    "    #tf.expand_dims returns a tensor with the same data as input, but its shape has an additional \n",
    "    #dimension of size 1 added. e.g ratings=[1,1] (rank 1), tf.expand_dims(ratings,-1)=[[1][1]] (rank 2).\n",
    "    #tf.tile creates a new tensor by replicating input multiples times. e.g. tf.tile([[1][1]], [1,5]) allows\n",
    "    #us to replicate the value 5 times on the 2nd axis. \n",
    "    #[[1 1 1 1 1]\n",
    "    # [1 1 1 1 1]]\n",
    "    #distance: the further away it is, it will be assigned a big number and it's a non-linear increase, we used square.\n",
    "    #[[ 0  1  4  9 16]\n",
    "    #[ 0  1  4  9 16]]\n",
    "    #\n",
    "    #predictions: \n",
    "    #[[0.,  0.,  0.,  0.4, 0.6]\n",
    "    #[ 0.2, 0.7, 0.1, 0,   0  ]] \n",
    "    #this means the model predicts 5, 2\n",
    "    #\n",
    "    #let's multiply predictions and distance:\n",
    "    #\n",
    "    #[[ 0.          0.          0.          3.60000014  9.60000038]\n",
    "    #[ 0.          0.69999999  0.40000001  0.          0.        ]]\n",
    "    stars = tf.range(1,6)\n",
    "    stars = tf.cast(stars, tf.float32)\n",
    "    \n",
    "    distances = (stars - tf.tile(tf.expand_dims(ratings, -1), [1, 5]))**2 \n",
    "    mean_distance = tf.reduce_mean(tf.reduce_sum(predictions * tf.cast(distances, tf.float32), axis=-1))\n",
    "    return mean_distance\n",
    "\n",
    "def mean_squared_error2(predictions, ratings):\n",
    "    \"\"\"\n",
    "    computes the mean squared error.\n",
    "    \n",
    "    Arguments:\n",
    "    prediction -- predicted value, shape (number of examples, 5)\n",
    "    rating -- \"true\" labels, shape (number of examples, 5)\n",
    "    \n",
    "    Returns:\n",
    "    mean_squared_error - mean squared error\n",
    "    \"\"\"\n",
    "    mean_squared_error=tf.reduce_mean(tf.squared_difference(tf.cast(tf.argmax(predictions, axis = 1),tf.float32), \n",
    "                                                            tf.cast(ratings-1, tf.float32)))\n",
    "    return mean_squared_error\n",
    "\n",
    "def dfm_loss(logits, ratings, params, alpha, beta):\n",
    "    \"\"\"\n",
    "    combines the mean squared error, cross entropy and regularization term to compute the total loss. \n",
    "    \n",
    "    Arguments:\n",
    "    logits -- output of forward propagation (output of the last LINEAR unit), of shape (number of examples, 5)\n",
    "    rating -- \"true\" labels, shape (number of examples, 1)\n",
    "    params -- a dictionary of variables containing W1, b1,...Wn, bn\n",
    "    alpha -- hyper-parameter, controls the contribution of two loss functions\n",
    "    beta --  hyper-parameter for the regularization term\n",
    "    \n",
    "    Returns:\n",
    "    cost - total loss\n",
    "    \"\"\"\n",
    "    predictions = calc_predict(logits)\n",
    "    loss = alpha * mean_squared_error(predictions, ratings) + (1-alpha) * cross_entropy(logits, ratings)\n",
    "    \n",
    "    reg = 0\n",
    "    for n, p in params.items():\n",
    "        reg = reg + tf.reduce_mean(p**2)\n",
    "    return loss + beta*reg"
   ]
  },
  {
   "cell_type": "markdown",
   "metadata": {},
   "source": [
    "### 6. train and validate the model"
   ]
  },
  {
   "cell_type": "code",
   "execution_count": 49,
   "metadata": {
    "scrolled": false
   },
   "outputs": [
    {
     "name": "stdout",
     "output_type": "stream",
     "text": [
      "1: 1.882673/1.631782; 51: 1.246438/1.392615; 101: 1.230210/1.382697; 151: 1.220384/1.378273; 201: 1.212804/1.375730; 251: 1.206622/1.374279; 301: 1.201401/1.373384; 351: 1.196894/1.372886; 401: 1.192940/1.372663; 451: 1.189430/1.372598; 501: 1.186289/1.372645; 551: 1.183458/1.372783; 601: 1.180890/1.373007; 651: 1.178565/1.373313; 701: 1.176456/1.373679; 751: 1.174534/1.374131; 801: 1.172761/1.374608; 851: 1.171119/1.375091; 901: 1.169592/1.375613; 951: 1.168170/1.376098; done!\n"
     ]
    }
   ],
   "source": [
    "user_embs_file = \"mf_model/user_features.npy\"\n",
    "movie_embs_file = \"mf_model/movie_features.npy\"\n",
    "\n",
    "bs = 4096\n",
    "epochs = 1000\n",
    "end_to_end_start = 50\n",
    "nn_lr = 0.001\n",
    "eb_lr = 0.0001\n",
    "alpha = 0.5\n",
    "beta = 1.75\n",
    "net_dims = [8, 64, 32, 16, 5]\n",
    "acts = [tf.nn.relu, tf.nn.relu, tf.nn.relu, None]\n",
    "\n",
    "with tf.Graph().as_default():\n",
    "    tf.set_random_seed(seed=123)\n",
    "    with tf.variable_scope(\"embeddings\"):\n",
    "        usr_embs, mov_embs = load_embeddings(user_embs_file, movie_embs_file)\n",
    "    with tf.variable_scope(\"neural_network\"):\n",
    "        params = initialize_nn_params(net_dims)\n",
    "    with tf.variable_scope(\"train_set\"):\n",
    "        train_data = trainset[[\"adj_userid\", \"adj_movieid\", \"rating\"]].values.T\n",
    "        train_examples = create_dataset(*train_data)\n",
    "        train_batches = tf.contrib.data.Dataset.from_tensor_slices(train_examples).batch(bs)\n",
    "        train_iterator = train_batches.make_initializable_iterator()\n",
    "        train_usr_id_bs, train_mov_id_bs, train_rating_bs = train_iterator.get_next()\n",
    "    with tf.variable_scope(\"valid_set\"):\n",
    "        valid_data = validset[[\"adj_userid\", \"adj_movieid\", \"rating\"]].values.T\n",
    "        valid_usr_ids, valid_mov_ids, valid_ratings = create_dataset(*valid_data)\n",
    "    with tf.variable_scope(\"training\"):\n",
    "        train_inputs = create_inputs(usr_embs, mov_embs, train_usr_id_bs, train_mov_id_bs)\n",
    "        train_logits_bs = forward_propagate(train_inputs, params, acts, net_dims)\n",
    "        train_loss = dfm_loss(train_logits_bs, train_rating_bs, params, alpha, beta)\n",
    "        train_step_nn = tf.train.AdamOptimizer(learning_rate=nn_lr).minimize(train_loss, var_list=list(params.values()))\n",
    "        train_step_eb = tf.train.AdamOptimizer(learning_rate=eb_lr).minimize(train_loss, var_list=[list(params.values())+[usr_embs, mov_embs]])\n",
    "    with tf.variable_scope(\"validation\"):\n",
    "        valid_inputs = create_inputs(usr_embs, mov_embs, valid_usr_ids, valid_mov_ids)\n",
    "        valid_logits = forward_propagate(valid_inputs, params, acts, net_dims)\n",
    "        valid_preds = calc_predict(valid_logits)\n",
    "        valid_loss = dfm_loss(valid_logits, valid_ratings, params, alpha, beta)\n",
    "    with tf.Session() as sess:\n",
    "        sess.run(tf.global_variables_initializer())\n",
    "        sess.run(train_iterator.initializer)\n",
    "        train_loss_history = []\n",
    "        valid_loss_history = []\n",
    "        for epoch in range(epochs):\n",
    "            try:\n",
    "                train_epoch_loss_history = []\n",
    "                while True:\n",
    "                    if epoch < end_to_end_start:\n",
    "                        current_train_loss = sess.run([train_loss, train_step_nn])[0]\n",
    "                    else:\n",
    "                        current_train_loss = sess.run([train_loss, train_step_eb])[0]\n",
    "                    train_epoch_loss_history.append(current_train_loss)\n",
    "            except tf.errors.OutOfRangeError:\n",
    "                train_epoch_loss = np.mean(train_epoch_loss_history)\n",
    "                train_loss_history.append(train_epoch_loss)\n",
    "                valid_epoch_loss = sess.run(valid_loss)\n",
    "                valid_loss_history.append(valid_epoch_loss)\n",
    "                if epoch%50 == 0:\n",
    "                    print(\"%i: %f/%f\"%(epoch+1, train_epoch_loss, valid_epoch_loss), end=\"; \")\n",
    "                sess.run(train_iterator.initializer)\n",
    "        print(\"done!\")\n",
    "        final_valid_predictions = sess.run(valid_preds)"
   ]
  },
  {
   "cell_type": "code",
   "execution_count": 50,
   "metadata": {},
   "outputs": [
    {
     "name": "stdout",
     "output_type": "stream",
     "text": [
      "DNN Accuracy: 46.451245%\n"
     ]
    }
   ],
   "source": [
    "dnn_accuracy = np.sum(np.argmax(final_valid_predictions, axis=-1)+1 == validset.rating.values) / float(len(final_valid_predictions))\n",
    "print(\"DNN Accuracy: %f%%\"%(dnn_accuracy*100,))"
   ]
  },
  {
   "cell_type": "code",
   "execution_count": 51,
   "metadata": {},
   "outputs": [
    {
     "data": {
      "image/png": "[encoded data removed]",
      "text/plain": [
       "<matplotlib.figure.Figure at 0x1280b3ed0>"
      ]
     },
     "metadata": {},
     "output_type": "display_data"
    }
   ],
   "source": [
    "plt.figure(figsize=(12,10))\n",
    "plt.plot(train_loss_history, color=\"red\", label=\"train loss\")\n",
    "plt.plot(valid_loss_history, color=\"blue\", label=\"valid loss\")\n",
    "plt.xlabel(\"epoch\")\n",
    "plt.ylabel(\"loss\")\n",
    "plt.axvline(end_to_end_start-1, ls = \"--\", label=\"end-to-end start\")\n",
    "plt.legend()\n",
    "plt.show()"
   ]
  },
  {
   "cell_type": "code",
   "execution_count": 52,
   "metadata": {},
   "outputs": [
    {
     "data": {
      "image/png": "[encoded data removed]",
      "text/plain": [
       "<matplotlib.figure.Figure at 0x105fdca10>"
      ]
     },
     "metadata": {},
     "output_type": "display_data"
    }
   ],
   "source": [
    "n_cols, n_rows = 5, 6\n",
    "n = n_cols * n_rows\n",
    "ratings = validset.rating.values[:n]\n",
    "probs = final_valid_predictions[:n]\n",
    "\n",
    "fig, axs = plt.subplots(n_rows, n_cols, figsize=(n_cols*3, n_rows*3), sharex=True, sharey=True)\n",
    "for ax, r, ps  in zip(axs.flatten(), ratings, probs):\n",
    "    for i, p in enumerate(ps):\n",
    "        ax.set_xlabel(\"rating\")\n",
    "        ax.set_ylabel(\"probability\")\n",
    "        ax.bar(r, 1, .9, color=\"white\", edgecolor=\"green\", alpha=.1, zorder=1)\n",
    "        ax.bar(i+1, p, .9, color=\"blue\", alpha=.5, edgecolor=\"black\", zorder=2)\n",
    "        ax.set_xticks(np.arange(1, 6))\n",
    "    #ax.bar(np.argmax(ps, axis=-1)+1, 1, .9, color=\"red\", edgecolor=\"red\", alpha=.1, zorder=1)\n",
    "fig.tight_layout()"
   ]
  },
  {
   "cell_type": "code",
   "execution_count": 53,
   "metadata": {},
   "outputs": [
    {
     "data": {
      "text/html": [
       "<div>\n",
       "<style>\n",
       "    .dataframe thead tr:only-child th {\n",
       "        text-align: right;\n",
       "    }\n",
       "\n",
       "    .dataframe thead th {\n",
       "        text-align: left;\n",
       "    }\n",
       "\n",
       "    .dataframe tbody tr th {\n",
       "        vertical-align: top;\n",
       "    }\n",
       "</style>\n",
       "<table border=\"1\" class=\"dataframe\">\n",
       "  <thead>\n",
       "    <tr style=\"text-align: right;\">\n",
       "      <th></th>\n",
       "      <th>gender</th>\n",
       "      <th>userid</th>\n",
       "      <th>movieid</th>\n",
       "      <th>age_desc</th>\n",
       "      <th>occ_desc</th>\n",
       "      <th>title</th>\n",
       "      <th>genre</th>\n",
       "      <th>rating</th>\n",
       "      <th>prediction</th>\n",
       "      <th>rating 1</th>\n",
       "      <th>rating 2</th>\n",
       "      <th>rating 3</th>\n",
       "      <th>rating 4</th>\n",
       "      <th>rating 5</th>\n",
       "    </tr>\n",
       "  </thead>\n",
       "  <tbody>\n",
       "    <tr>\n",
       "      <th>656218</th>\n",
       "      <td>F</td>\n",
       "      <td>5107</td>\n",
       "      <td>2406</td>\n",
       "      <td>45-49</td>\n",
       "      <td>other or not specified</td>\n",
       "      <td>Romancing the Stone (1984)</td>\n",
       "      <td>Action|Adventure|Comedy|Romance</td>\n",
       "      <td>2</td>\n",
       "      <td>3</td>\n",
       "      <td>0.041350</td>\n",
       "      <td>0.263017</td>\n",
       "      <td>0.608964</td>\n",
       "      <td>0.082422</td>\n",
       "      <td>0.004247</td>\n",
       "    </tr>\n",
       "    <tr>\n",
       "      <th>802900</th>\n",
       "      <td>M</td>\n",
       "      <td>2496</td>\n",
       "      <td>2988</td>\n",
       "      <td>50-55</td>\n",
       "      <td>academic/educator</td>\n",
       "      <td>Melvin and Howard (1980)</td>\n",
       "      <td>Drama</td>\n",
       "      <td>2</td>\n",
       "      <td>3</td>\n",
       "      <td>0.031366</td>\n",
       "      <td>0.228283</td>\n",
       "      <td>0.639892</td>\n",
       "      <td>0.095752</td>\n",
       "      <td>0.004707</td>\n",
       "    </tr>\n",
       "    <tr>\n",
       "      <th>477345</th>\n",
       "      <td>M</td>\n",
       "      <td>5536</td>\n",
       "      <td>1693</td>\n",
       "      <td>25-34</td>\n",
       "      <td>self-employed</td>\n",
       "      <td>Amistad (1997)</td>\n",
       "      <td>Drama</td>\n",
       "      <td>3</td>\n",
       "      <td>3</td>\n",
       "      <td>0.005216</td>\n",
       "      <td>0.065582</td>\n",
       "      <td>0.508156</td>\n",
       "      <td>0.385236</td>\n",
       "      <td>0.035811</td>\n",
       "    </tr>\n",
       "    <tr>\n",
       "      <th>256823</th>\n",
       "      <td>F</td>\n",
       "      <td>4085</td>\n",
       "      <td>1049</td>\n",
       "      <td>25-34</td>\n",
       "      <td>doctor/health care</td>\n",
       "      <td>Ghost and the Darkness, The (1996)</td>\n",
       "      <td>Action|Adventure</td>\n",
       "      <td>2</td>\n",
       "      <td>4</td>\n",
       "      <td>0.000208</td>\n",
       "      <td>0.007229</td>\n",
       "      <td>0.195495</td>\n",
       "      <td>0.706333</td>\n",
       "      <td>0.090735</td>\n",
       "    </tr>\n",
       "    <tr>\n",
       "      <th>668537</th>\n",
       "      <td>M</td>\n",
       "      <td>462</td>\n",
       "      <td>2454</td>\n",
       "      <td>18-24</td>\n",
       "      <td>self-employed</td>\n",
       "      <td>Fly, The (1958)</td>\n",
       "      <td>Horror|Sci-Fi</td>\n",
       "      <td>3</td>\n",
       "      <td>3</td>\n",
       "      <td>0.004341</td>\n",
       "      <td>0.063588</td>\n",
       "      <td>0.541756</td>\n",
       "      <td>0.363103</td>\n",
       "      <td>0.027211</td>\n",
       "    </tr>\n",
       "    <tr>\n",
       "      <th>192126</th>\n",
       "      <td>M</td>\n",
       "      <td>2414</td>\n",
       "      <td>750</td>\n",
       "      <td>25-34</td>\n",
       "      <td>academic/educator</td>\n",
       "      <td>Dr. Strangelove or: How I Learned to Stop Worr...</td>\n",
       "      <td>Sci-Fi|War</td>\n",
       "      <td>4</td>\n",
       "      <td>4</td>\n",
       "      <td>0.000075</td>\n",
       "      <td>0.003175</td>\n",
       "      <td>0.110125</td>\n",
       "      <td>0.711519</td>\n",
       "      <td>0.175106</td>\n",
       "    </tr>\n",
       "    <tr>\n",
       "      <th>841841</th>\n",
       "      <td>M</td>\n",
       "      <td>4570</td>\n",
       "      <td>3147</td>\n",
       "      <td>45-49</td>\n",
       "      <td>technician/engineer</td>\n",
       "      <td>Green Mile, The (1999)</td>\n",
       "      <td>Drama|Thriller</td>\n",
       "      <td>4</td>\n",
       "      <td>4</td>\n",
       "      <td>0.000157</td>\n",
       "      <td>0.004762</td>\n",
       "      <td>0.121376</td>\n",
       "      <td>0.679181</td>\n",
       "      <td>0.194524</td>\n",
       "    </tr>\n",
       "    <tr>\n",
       "      <th>785100</th>\n",
       "      <td>M</td>\n",
       "      <td>5281</td>\n",
       "      <td>2918</td>\n",
       "      <td>25-34</td>\n",
       "      <td>artist</td>\n",
       "      <td>Ferris Bueller's Day Off (1986)</td>\n",
       "      <td>Comedy</td>\n",
       "      <td>4</td>\n",
       "      <td>5</td>\n",
       "      <td>0.000001</td>\n",
       "      <td>0.000103</td>\n",
       "      <td>0.009645</td>\n",
       "      <td>0.395210</td>\n",
       "      <td>0.595041</td>\n",
       "    </tr>\n",
       "    <tr>\n",
       "      <th>117944</th>\n",
       "      <td>M</td>\n",
       "      <td>1803</td>\n",
       "      <td>438</td>\n",
       "      <td>25-34</td>\n",
       "      <td>artist</td>\n",
       "      <td>Cowboy Way, The (1994)</td>\n",
       "      <td>Action|Comedy</td>\n",
       "      <td>3</td>\n",
       "      <td>3</td>\n",
       "      <td>0.015664</td>\n",
       "      <td>0.146682</td>\n",
       "      <td>0.660807</td>\n",
       "      <td>0.167358</td>\n",
       "      <td>0.009489</td>\n",
       "    </tr>\n",
       "    <tr>\n",
       "      <th>631594</th>\n",
       "      <td>F</td>\n",
       "      <td>5986</td>\n",
       "      <td>2336</td>\n",
       "      <td>56+</td>\n",
       "      <td>academic/educator</td>\n",
       "      <td>Elizabeth (1998)</td>\n",
       "      <td>Drama</td>\n",
       "      <td>4</td>\n",
       "      <td>5</td>\n",
       "      <td>0.000002</td>\n",
       "      <td>0.000078</td>\n",
       "      <td>0.003952</td>\n",
       "      <td>0.189374</td>\n",
       "      <td>0.806595</td>\n",
       "    </tr>\n",
       "  </tbody>\n",
       "</table>\n",
       "</div>"
      ],
      "text/plain": [
       "       gender  userid  movieid age_desc                occ_desc  \\\n",
       "656218      F    5107     2406    45-49  other or not specified   \n",
       "802900      M    2496     2988    50-55       academic/educator   \n",
       "477345      M    5536     1693    25-34           self-employed   \n",
       "256823      F    4085     1049    25-34      doctor/health care   \n",
       "668537      M     462     2454    18-24           self-employed   \n",
       "192126      M    2414      750    25-34       academic/educator   \n",
       "841841      M    4570     3147    45-49     technician/engineer   \n",
       "785100      M    5281     2918    25-34                  artist   \n",
       "117944      M    1803      438    25-34                  artist   \n",
       "631594      F    5986     2336      56+       academic/educator   \n",
       "\n",
       "                                                    title  \\\n",
       "656218                         Romancing the Stone (1984)   \n",
       "802900                           Melvin and Howard (1980)   \n",
       "477345                                     Amistad (1997)   \n",
       "256823                 Ghost and the Darkness, The (1996)   \n",
       "668537                                    Fly, The (1958)   \n",
       "192126  Dr. Strangelove or: How I Learned to Stop Worr...   \n",
       "841841                             Green Mile, The (1999)   \n",
       "785100                    Ferris Bueller's Day Off (1986)   \n",
       "117944                             Cowboy Way, The (1994)   \n",
       "631594                                   Elizabeth (1998)   \n",
       "\n",
       "                                  genre  rating  prediction  rating 1  \\\n",
       "656218  Action|Adventure|Comedy|Romance       2           3  0.041350   \n",
       "802900                            Drama       2           3  0.031366   \n",
       "477345                            Drama       3           3  0.005216   \n",
       "256823                 Action|Adventure       2           4  0.000208   \n",
       "668537                    Horror|Sci-Fi       3           3  0.004341   \n",
       "192126                       Sci-Fi|War       4           4  0.000075   \n",
       "841841                   Drama|Thriller       4           4  0.000157   \n",
       "785100                           Comedy       4           5  0.000001   \n",
       "117944                    Action|Comedy       3           3  0.015664   \n",
       "631594                            Drama       4           5  0.000002   \n",
       "\n",
       "        rating 2  rating 3  rating 4  rating 5  \n",
       "656218  0.263017  0.608964  0.082422  0.004247  \n",
       "802900  0.228283  0.639892  0.095752  0.004707  \n",
       "477345  0.065582  0.508156  0.385236  0.035811  \n",
       "256823  0.007229  0.195495  0.706333  0.090735  \n",
       "668537  0.063588  0.541756  0.363103  0.027211  \n",
       "192126  0.003175  0.110125  0.711519  0.175106  \n",
       "841841  0.004762  0.121376  0.679181  0.194524  \n",
       "785100  0.000103  0.009645  0.395210  0.595041  \n",
       "117944  0.146682  0.660807  0.167358  0.009489  \n",
       "631594  0.000078  0.003952  0.189374  0.806595  "
      ]
     },
     "execution_count": 53,
     "metadata": {},
     "output_type": "execute_result"
    }
   ],
   "source": [
    "results = validset[[\"gender\", \"userid\",\"movieid\",\"age_desc\",\"occ_desc\", \"title\", \"genre\", \"rating\"]].copy()\n",
    "results[\"prediction\"] = final_valid_predictions.argmax(axis=1)+1\n",
    "results[\"rating 1\"] = final_valid_predictions[:,0]\n",
    "results[\"rating 2\"] = final_valid_predictions[:,1]\n",
    "results[\"rating 3\"] = final_valid_predictions[:,2]\n",
    "results[\"rating 4\"] = final_valid_predictions[:,3]\n",
    "results[\"rating 5\"] = final_valid_predictions[:,4]\n",
    "results.head(10)"
   ]
  },
  {
   "cell_type": "code",
   "execution_count": 54,
   "metadata": {
    "collapsed": true
   },
   "outputs": [],
   "source": [
    "def compute_recall(prediction_col, target_col):\n",
    "    recall=[]\n",
    "    for i in range(5):\n",
    "        rating_df = results[results[target_col]==i+1]\n",
    "        num_true_rating = len(rating_df)+0.0\n",
    "        current_recall = (len(rating_df[rating_df[prediction_col]==i+1]))/float(num_true_rating)\n",
    "        recall.append(current_recall)\n",
    "    return recall\n",
    "\n",
    "def compute_precision(prediction_col, target_col): \n",
    "    precision=[]\n",
    "    for i in range(5):\n",
    "        pred_df = results[results[prediction_col]==i+1]\n",
    "        pred_rating = len(pred_df)+0.0\n",
    "        current_precision = (len(pred_df[pred_df[target_col]==i+1]))/float(pred_rating)\n",
    "        precision.append(current_precision)\n",
    "    return precision    \n",
    "\n",
    "def compute_mae(prediction_col, target_col):\n",
    "    return np.mean(np.abs(results[prediction_col]-results[target_col]))\n",
    "\n",
    "def compute_rmse(prediction_col, target_col):\n",
    "    return np.sqrt(1/float(len(results))*np.sum((results[prediction_col]- results[target_col])**2))"
   ]
  },
  {
   "cell_type": "code",
   "execution_count": 55,
   "metadata": {},
   "outputs": [
    {
     "data": {
      "text/plain": [
       "[0.23305185537583253,\n",
       " 0.19579358196010407,\n",
       " 0.4832799601934192,\n",
       " 0.6137722545896354,\n",
       " 0.39831019028726766]"
      ]
     },
     "execution_count": 55,
     "metadata": {},
     "output_type": "execute_result"
    }
   ],
   "source": [
    "compute_recall('prediction', 'rating')"
   ]
  },
  {
   "cell_type": "code",
   "execution_count": 56,
   "metadata": {},
   "outputs": [
    {
     "data": {
      "text/plain": [
       "[0.5985033598045205,\n",
       " 0.34864864864864864,\n",
       " 0.41097332074775683,\n",
       " 0.46302016425859904,\n",
       " 0.6070452814977382]"
      ]
     },
     "execution_count": 56,
     "metadata": {},
     "output_type": "execute_result"
    }
   ],
   "source": [
    "compute_precision('prediction', 'rating')"
   ]
  },
  {
   "cell_type": "code",
   "execution_count": 57,
   "metadata": {},
   "outputs": [
    {
     "data": {
      "text/plain": [
       "0.63955569330440609"
      ]
     },
     "execution_count": 57,
     "metadata": {},
     "output_type": "execute_result"
    }
   ],
   "source": [
    "compute_mae('prediction', 'rating')"
   ]
  },
  {
   "cell_type": "code",
   "execution_count": 58,
   "metadata": {},
   "outputs": [
    {
     "data": {
      "text/plain": [
       "0.93621895609622841"
      ]
     },
     "execution_count": 58,
     "metadata": {},
     "output_type": "execute_result"
    }
   ],
   "source": [
    "compute_rmse('prediction', 'rating')"
   ]
  },
  {
   "cell_type": "code",
   "execution_count": null,
   "metadata": {
    "collapsed": true
   },
   "outputs": [],
   "source": []
  }
 ],
 "metadata": {
  "kernelspec": {
   "display_name": "Python [conda root]",
   "language": "python",
   "name": "conda-root-py"
  },
  "language_info": {
   "codemirror_mode": {
    "name": "ipython",
    "version": 2
   },
   "file_extension": ".py",
   "mimetype": "text/x-python",
   "name": "python",
   "nbconvert_exporter": "python",
   "pygments_lexer": "ipython2",
   "version": "2.7.12"
  }
 },
 "nbformat": 4,
 "nbformat_minor": 2
}
